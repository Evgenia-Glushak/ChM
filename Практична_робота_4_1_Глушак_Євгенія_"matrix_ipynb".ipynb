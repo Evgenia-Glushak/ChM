{
  "cells": [
    {
      "cell_type": "markdown",
      "metadata": {
        "id": "view-in-github",
        "colab_type": "text"
      },
      "source": [
        "<a href=\"https://colab.research.google.com/github/Evgenia-Glushak/ChM/blob/main/%D0%9F%D1%80%D0%B0%D0%BA%D1%82%D0%B8%D1%87%D0%BD%D0%B0_%D1%80%D0%BE%D0%B1%D0%BE%D1%82%D0%B0_4_1_%D0%93%D0%BB%D1%83%D1%88%D0%B0%D0%BA_%D0%84%D0%B2%D0%B3%D0%B5%D0%BD%D1%96%D1%8F_%22matrix_ipynb%22.ipynb\" target=\"_parent\"><img src=\"https://colab.research.google.com/assets/colab-badge.svg\" alt=\"Open In Colab\"/></a>"
      ]
    },
    {
      "cell_type": "code",
      "execution_count": 19,
      "id": "0933fef7-7415-45e1-808f-458fd0a00c14",
      "metadata": {
        "tags": [],
        "id": "0933fef7-7415-45e1-808f-458fd0a00c14"
      },
      "outputs": [],
      "source": [
        "#Встaновити numpy\n",
        "#!pip install numpy"
      ]
    },
    {
      "cell_type": "code",
      "source": [
        "# Приклади роботи з матрицями\n",
        "import numpy as np\n",
        "# Отримання версії бібліотеки NumPy\n",
        "numpy_version = np.__version__\n",
        "numpy_version\n"
      ],
      "metadata": {
        "colab": {
          "base_uri": "https://localhost:8080/",
          "height": 36
        },
        "id": "nETPPRQBKp5_",
        "outputId": "15ac0d21-cdd3-4553-b0a9-f16f15c1d793"
      },
      "id": "nETPPRQBKp5_",
      "execution_count": 20,
      "outputs": [
        {
          "output_type": "execute_result",
          "data": {
            "text/plain": [
              "'2.0.2'"
            ],
            "application/vnd.google.colaboratory.intrinsic+json": {
              "type": "string"
            }
          },
          "metadata": {},
          "execution_count": 20
        }
      ]
    },
    {
      "cell_type": "markdown",
      "source": [
        "1. Задаємо матрицю 3*3 і запонюєм рандомними цілими числами від 1 до 5"
      ],
      "metadata": {
        "id": "ERsYHz4pG9nA"
      },
      "id": "ERsYHz4pG9nA"
    },
    {
      "cell_type": "code",
      "execution_count": 27,
      "id": "bd680e3e-4a8a-4b2c-9822-4a2c02e4be23",
      "metadata": {
        "tags": [],
        "colab": {
          "base_uri": "https://localhost:8080/"
        },
        "id": "bd680e3e-4a8a-4b2c-9822-4a2c02e4be23",
        "outputId": "5c196bbf-b7f0-497f-fbf4-8f321523a72f"
      },
      "outputs": [
        {
          "output_type": "execute_result",
          "data": {
            "text/plain": [
              "array([[3, 2, 5],\n",
              "       [2, 5, 3],\n",
              "       [3, 5, 2]])"
            ]
          },
          "metadata": {},
          "execution_count": 27
        }
      ],
      "source": [
        "\n",
        " matrix = np.random.randint(1, 6, size=(3, 3))\n",
        "\n",
        " matrix"
      ]
    },
    {
      "cell_type": "markdown",
      "source": [
        " 2.  Обчислити визначник матриці"
      ],
      "metadata": {
        "id": "lB6_jbnHIh-m"
      },
      "id": "lB6_jbnHIh-m"
    },
    {
      "cell_type": "code",
      "source": [
        "det = np.linalg.det(matrix)\n",
        "det"
      ],
      "metadata": {
        "colab": {
          "base_uri": "https://localhost:8080/"
        },
        "id": "2NGpVi6dBv8s",
        "outputId": "6daac4bd-0ef7-4485-888f-df84c63a72e0"
      },
      "id": "2NGpVi6dBv8s",
      "execution_count": 28,
      "outputs": [
        {
          "output_type": "execute_result",
          "data": {
            "text/plain": [
              "np.float64(-30.000000000000014)"
            ]
          },
          "metadata": {},
          "execution_count": 28
        }
      ]
    },
    {
      "cell_type": "markdown",
      "source": [
        "3. Знайти добуток всіх елементів матриці"
      ],
      "metadata": {
        "id": "Aq3_j-yeJBeh"
      },
      "id": "Aq3_j-yeJBeh"
    },
    {
      "cell_type": "code",
      "source": [
        " product = np.prod(matrix)\n",
        " product"
      ],
      "metadata": {
        "colab": {
          "base_uri": "https://localhost:8080/"
        },
        "outputId": "5207694e-a480-40c0-d68f-447114c32865",
        "id": "_lNBHHHOBwql"
      },
      "execution_count": 29,
      "outputs": [
        {
          "output_type": "execute_result",
          "data": {
            "text/plain": [
              "np.int64(27000)"
            ]
          },
          "metadata": {},
          "execution_count": 29
        }
      ],
      "id": "_lNBHHHOBwql"
    },
    {
      "cell_type": "markdown",
      "source": [
        "4. Знайти суму всіх елементів матриці"
      ],
      "metadata": {
        "id": "ppggbwT6Jhiu"
      },
      "id": "ppggbwT6Jhiu"
    },
    {
      "cell_type": "code",
      "source": [
        "sum = np.sum(matrix)\n",
        "sum"
      ],
      "metadata": {
        "colab": {
          "base_uri": "https://localhost:8080/"
        },
        "id": "NyuXd2N8CIE-",
        "outputId": "d3cf45bf-3c82-4b05-b753-74f67820db8a"
      },
      "id": "NyuXd2N8CIE-",
      "execution_count": 30,
      "outputs": [
        {
          "output_type": "execute_result",
          "data": {
            "text/plain": [
              "np.int64(30)"
            ]
          },
          "metadata": {},
          "execution_count": 30
        }
      ]
    },
    {
      "cell_type": "markdown",
      "source": [
        "5. Обчислити найбільший і найменший елемент"
      ],
      "metadata": {
        "id": "k7vfR3Z1KGt9"
      },
      "id": "k7vfR3Z1KGt9"
    },
    {
      "cell_type": "code",
      "execution_count": 31,
      "id": "6550cd09-c6e7-4842-a13f-81c755b38252",
      "metadata": {
        "tags": [],
        "colab": {
          "base_uri": "https://localhost:8080/"
        },
        "id": "6550cd09-c6e7-4842-a13f-81c755b38252",
        "outputId": "9b107b1a-51c6-46f4-f5be-215613ce01ac"
      },
      "outputs": [
        {
          "output_type": "stream",
          "name": "stdout",
          "text": [
            "Найбільший елемент матриці: 5\n",
            "Найменший елемент матриці: 2\n"
          ]
        }
      ],
      "source": [
        "max_element = np.max(matrix)\n",
        "print(\"Найбільший елемент матриці:\", max_element)\n",
        "min_element = np.min(matrix)\n",
        "print(\"Найменший елемент матриці:\", min_element)"
      ]
    },
    {
      "cell_type": "markdown",
      "source": [
        "6. Знайти середнє значення елем матриці"
      ],
      "metadata": {
        "id": "ZYJF11NGLO93"
      },
      "id": "ZYJF11NGLO93"
    },
    {
      "cell_type": "code",
      "source": [
        "mean = np.mean(matrix)\n",
        "print(\"Середнє знчення елементів иатриці:\" , mean)"
      ],
      "metadata": {
        "colab": {
          "base_uri": "https://localhost:8080/"
        },
        "id": "e7XLi9ALGHCO",
        "outputId": "677cb45b-9058-4f5a-ed32-978cc5bfef02"
      },
      "id": "e7XLi9ALGHCO",
      "execution_count": 32,
      "outputs": [
        {
          "output_type": "stream",
          "name": "stdout",
          "text": [
            "Середнє знчення елементів иатриці: 3.3333333333333335\n"
          ]
        }
      ]
    },
    {
      "cell_type": "markdown",
      "source": [
        "7. Знайти матрицю що складена з квадратних коренів"
      ],
      "metadata": {
        "id": "cOV0kr9DMv0G"
      },
      "id": "cOV0kr9DMv0G"
    },
    {
      "cell_type": "code",
      "source": [
        "sqrt_matrix = np.sqrt(matrix)\n",
        "print(\"Матриця квадратних коренів:\")\n",
        "print(sqrt_matrix)"
      ],
      "metadata": {
        "colab": {
          "base_uri": "https://localhost:8080/"
        },
        "id": "8LB8UdL7z8VI",
        "outputId": "a06d0718-d921-481e-a3e0-35aa857e4800"
      },
      "id": "8LB8UdL7z8VI",
      "execution_count": 33,
      "outputs": [
        {
          "output_type": "stream",
          "name": "stdout",
          "text": [
            "Матриця квадратних коренів:\n",
            "[[1.73205081 1.41421356 2.23606798]\n",
            " [1.41421356 2.23606798 1.73205081]\n",
            " [1.73205081 2.23606798 1.41421356]]\n"
          ]
        }
      ]
    },
    {
      "cell_type": "markdown",
      "source": [
        "8. Обчислити суму елементів кожного рядка. Відп запис як вектор-стовпчик."
      ],
      "metadata": {
        "id": "gblFp5q1NqHz"
      },
      "id": "gblFp5q1NqHz"
    },
    {
      "cell_type": "code",
      "execution_count": 36,
      "id": "122d5a0f-9305-4bbb-97c2-95e6351a9e12",
      "metadata": {
        "tags": [],
        "colab": {
          "base_uri": "https://localhost:8080/"
        },
        "id": "122d5a0f-9305-4bbb-97c2-95e6351a9e12",
        "outputId": "d3a7389a-71bb-4784-d50b-a4c8a6fcc608"
      },
      "outputs": [
        {
          "output_type": "stream",
          "name": "stdout",
          "text": [
            "Сума елементів кожного рядка:\n",
            "[[10]\n",
            " [10]\n",
            " [10]]\n"
          ]
        }
      ],
      "source": [
        "row_sums = np.sum(matrix, axis=1).reshape(-1, 1)\n",
        "print(\"Сума елементів кожного рядка:\")\n",
        "print(row_sums)\n"
      ]
    },
    {
      "cell_type": "markdown",
      "source": [
        "9. Створити вектор що містить 25 елементів. Заповнити числами від 0 до 9 . Відсортувати числа за спаданням"
      ],
      "metadata": {
        "id": "satVWbZlQ3uR"
      },
      "id": "satVWbZlQ3uR"
    },
    {
      "cell_type": "code",
      "execution_count": 39,
      "id": "a6aebb3e-8897-43c1-80c3-2b3cd741f9b5",
      "metadata": {
        "tags": [],
        "colab": {
          "base_uri": "https://localhost:8080/"
        },
        "id": "a6aebb3e-8897-43c1-80c3-2b3cd741f9b5",
        "outputId": "3a898fea-f2a2-4283-8095-9323cf56f8e9"
      },
      "outputs": [
        {
          "output_type": "stream",
          "name": "stdout",
          "text": [
            "Поачатковий вектор : \n",
            "[7 6 4 3 2 9 9 5 2 2 0 3 0 6 4 7 2 5 0 8 7 0 6 7 6]\n",
            "Вектор після сортування за спаданням: \n",
            "[9 9 8 7 7 7 7 6 6 6 6 5 5 4 4 3 3 2 2 2 2 0 0 0 0]\n"
          ]
        }
      ],
      "source": [
        "vector = np.random.randint(0, 10, size=25)\n",
        "print(\"Поачатковий вектор : \")\n",
        "print(vector)\n",
        "sorted_vector = np.sort(vector)[::-1]\n",
        "print(\"Вектор після сортування за спаданням: \")\n",
        "print(sorted_vector)"
      ]
    },
    {
      "cell_type": "markdown",
      "source": [
        "10. Знайти моду , медіану , середнє , мвксимальне , мінімальне значення"
      ],
      "metadata": {
        "id": "xkodRBMcSR9p"
      },
      "id": "xkodRBMcSR9p"
    },
    {
      "cell_type": "code",
      "source": [
        "from scipy import stats\n",
        "mode = stats.mode(vector)\n",
        "median = np.median(vector)\n",
        "mean = np.mean(vector)\n",
        "max_value = np.max(vector)\n",
        "min_value = np.min(vector)\n",
        "print(\"Мода: \", mode)\n",
        "print(\"Медіана : \", median)\n",
        "print(\"Середнє : \", mean)\n",
        "print(\"Максимальне значення : \", max_value)\n",
        "print(\"Мінімальне значення : \", min_value)"
      ],
      "metadata": {
        "colab": {
          "base_uri": "https://localhost:8080/"
        },
        "id": "7Sbqjcc10H4T",
        "outputId": "2c88595f-9c48-405e-b8c0-f3bd5bc420df"
      },
      "id": "7Sbqjcc10H4T",
      "execution_count": 40,
      "outputs": [
        {
          "output_type": "stream",
          "name": "stdout",
          "text": [
            "Мода:  ModeResult(mode=np.int64(0), count=np.int64(4))\n",
            "Медіана :  5.0\n",
            "Середнє :  4.4\n",
            "Максимальне значення :  9\n",
            "Мінімальне значення :  0\n"
          ]
        }
      ]
    },
    {
      "cell_type": "markdown",
      "source": [
        "11. Створити дві матриці 4*4 , заповнені числами від 1 до 10.Обчислити суму , різницю ,поелементний добуток , частку"
      ],
      "metadata": {
        "id": "SrCIG3qIU3Im"
      },
      "id": "SrCIG3qIU3Im"
    },
    {
      "cell_type": "code",
      "source": [
        "matrix1 = np.random.randint(1, 11, size=(4, 4))\n",
        "matrix2 = np.random.randint(1, 11, size=(4, 4))\n",
        "print(\"Матриця 1:\")\n",
        "print(matrix1)\n",
        "print(\"\\nМатриця 2:\")\n",
        "print(matrix2)"
      ],
      "metadata": {
        "colab": {
          "base_uri": "https://localhost:8080/"
        },
        "id": "6XnIOqvn0gdi",
        "outputId": "ea6151c9-2f53-406e-931b-d1f14dc9341e"
      },
      "id": "6XnIOqvn0gdi",
      "execution_count": 41,
      "outputs": [
        {
          "output_type": "stream",
          "name": "stdout",
          "text": [
            "Матриця 1:\n",
            "[[ 6  9  4  8]\n",
            " [ 4  1  7  2]\n",
            " [ 7  7  1  3]\n",
            " [ 5  5  3 10]]\n",
            "\n",
            "Матриця 2:\n",
            "[[ 3  6  7  4]\n",
            " [ 1  6 10  5]\n",
            " [ 4  4 10  4]\n",
            " [ 1  9  2  4]]\n"
          ]
        }
      ]
    },
    {
      "cell_type": "markdown",
      "source": [
        "12. Задати вектор-рядок зо мвстить дійсні числа 1.0-8.0 . Зробити матрицю 3*3. Помножити на вектор-рядок що містить числа 1.0-2.0"
      ],
      "metadata": {
        "id": "BOGCoUWLWZwo"
      },
      "id": "BOGCoUWLWZwo"
    },
    {
      "cell_type": "code",
      "source": [
        "x = np.arange(9.0)\n",
        "x"
      ],
      "metadata": {
        "colab": {
          "base_uri": "https://localhost:8080/"
        },
        "id": "6-BBkBDzOODd",
        "outputId": "795ac370-2f3e-4bd1-d3df-bc7b45cee684"
      },
      "id": "6-BBkBDzOODd",
      "execution_count": 42,
      "outputs": [
        {
          "output_type": "execute_result",
          "data": {
            "text/plain": [
              "array([0., 1., 2., 3., 4., 5., 6., 7., 8.])"
            ]
          },
          "metadata": {},
          "execution_count": 42
        }
      ]
    },
    {
      "cell_type": "code",
      "execution_count": 43,
      "id": "09aea850-c1e2-435a-a1ec-d3f6dbc93f24",
      "metadata": {
        "tags": [],
        "colab": {
          "base_uri": "https://localhost:8080/"
        },
        "id": "09aea850-c1e2-435a-a1ec-d3f6dbc93f24",
        "outputId": "c2024b02-75b1-4b3a-ee3e-adb8f34f84b7"
      },
      "outputs": [
        {
          "output_type": "execute_result",
          "data": {
            "text/plain": [
              "array([[0., 1., 2.],\n",
              "       [3., 4., 5.],\n",
              "       [6., 7., 8.]])"
            ]
          },
          "metadata": {},
          "execution_count": 43
        }
      ],
      "source": [
        "x1 = x.reshape((3, 3))\n",
        "x1"
      ]
    },
    {
      "cell_type": "code",
      "execution_count": 45,
      "id": "958777bf-5a19-411b-b825-54be00494482",
      "metadata": {
        "tags": [],
        "colab": {
          "base_uri": "https://localhost:8080/"
        },
        "id": "958777bf-5a19-411b-b825-54be00494482",
        "outputId": "9ba57b16-5c58-41d8-e274-8873fa462112"
      },
      "outputs": [
        {
          "output_type": "execute_result",
          "data": {
            "text/plain": [
              "array([[ 0.,  1.,  4.],\n",
              "       [ 0.,  4., 10.],\n",
              "       [ 0.,  7., 16.]])"
            ]
          },
          "metadata": {},
          "execution_count": 45
        }
      ],
      "source": [
        "x2 = np.arange(3.0)\n",
        "np.multiply(x1, x2)\n"
      ]
    },
    {
      "cell_type": "markdown",
      "source": [
        "13. Задати вектор-рядок (числа 1-5).Обчислити вектор в кубі."
      ],
      "metadata": {
        "id": "Znn5YOT4XnZH"
      },
      "id": "Znn5YOT4XnZH"
    },
    {
      "cell_type": "code",
      "source": [
        "x1 = np.arange(6)\n",
        "x1"
      ],
      "metadata": {
        "colab": {
          "base_uri": "https://localhost:8080/"
        },
        "id": "Ic1aUryIInwa",
        "outputId": "78a9f26e-704c-4318-fc8c-a07390af1d00"
      },
      "id": "Ic1aUryIInwa",
      "execution_count": 46,
      "outputs": [
        {
          "output_type": "execute_result",
          "data": {
            "text/plain": [
              "array([0, 1, 2, 3, 4, 5])"
            ]
          },
          "metadata": {},
          "execution_count": 46
        }
      ]
    },
    {
      "cell_type": "code",
      "source": [
        "np.power(x1, 3)"
      ],
      "metadata": {
        "colab": {
          "base_uri": "https://localhost:8080/"
        },
        "id": "YNJzzcKMItmH",
        "outputId": "42d179d4-c50c-428f-e7b0-15c775c17ac0"
      },
      "id": "YNJzzcKMItmH",
      "execution_count": 47,
      "outputs": [
        {
          "output_type": "execute_result",
          "data": {
            "text/plain": [
              "array([  0,   1,   8,  27,  64, 125])"
            ]
          },
          "metadata": {},
          "execution_count": 47
        }
      ]
    },
    {
      "cell_type": "markdown",
      "source": [
        "13. Піднести до ступеня"
      ],
      "metadata": {
        "id": "qJFwb14nYXaT"
      },
      "id": "qJFwb14nYXaT"
    },
    {
      "cell_type": "code",
      "source": [
        "x2 = np.array([1, 2, 3, 3, 2, 1])\n",
        "x1 = np.arange(6)\n",
        "x1 ** x2"
      ],
      "metadata": {
        "colab": {
          "base_uri": "https://localhost:8080/"
        },
        "id": "nA18b-4fI2dr",
        "outputId": "11f04560-9b2e-4775-e102-85785e56687c"
      },
      "id": "nA18b-4fI2dr",
      "execution_count": 48,
      "outputs": [
        {
          "output_type": "execute_result",
          "data": {
            "text/plain": [
              "array([ 0,  1,  8, 27, 16,  5])"
            ]
          },
          "metadata": {},
          "execution_count": 48
        }
      ]
    },
    {
      "cell_type": "code",
      "execution_count": null,
      "id": "ddb81b05-9d87-4ece-b283-95cb63432eb9",
      "metadata": {
        "id": "ddb81b05-9d87-4ece-b283-95cb63432eb9"
      },
      "outputs": [],
      "source": []
    }
  ],
  "metadata": {
    "kernelspec": {
      "display_name": "Python 3 (ipykernel)",
      "language": "python",
      "name": "python3"
    },
    "language_info": {
      "codemirror_mode": {
        "name": "ipython",
        "version": 3
      },
      "file_extension": ".py",
      "mimetype": "text/x-python",
      "name": "python",
      "nbconvert_exporter": "python",
      "pygments_lexer": "ipython3",
      "version": "3.9.2"
    },
    "colab": {
      "provenance": [],
      "include_colab_link": true
    }
  },
  "nbformat": 4,
  "nbformat_minor": 5
}